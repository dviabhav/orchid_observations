{
 "cells": [
  {
   "cell_type": "code",
   "execution_count": 2,
   "id": "18ba7f22-e894-479d-ab0c-c2e9686f2799",
   "metadata": {
    "tags": []
   },
   "outputs": [
    {
     "data": {
      "text/plain": [
       "common_name                   object\n",
       "scientific_name               object\n",
       "latitude                     float64\n",
       "longitude                    float64\n",
       "date_observed_on      datetime64[ns]\n",
       "place_guess                   object\n",
       "place_state_name              object\n",
       "place_country_name            object\n",
       "dtype: object"
      ]
     },
     "execution_count": 2,
     "metadata": {},
     "output_type": "execute_result"
    }
   ],
   "source": [
    "import numpy as np # linear algebra\n",
    "import pandas as pd # data processing, CSV file I/O (e.g. pd.read_csv)\n",
    "import datetime as dt\n",
    "import time\n",
    "import math\n",
    "# Input data files are available in the \"../input/\" directory.\n",
    "# For example, running this (by clicking run or pressing Shift+Enter) will list all files under the input directory\n",
    "import matplotlib.pyplot as plt\n",
    "import os\n",
    "from pathlib import Path\n",
    "import time\n",
    "import cartopy.crs as ccrs\n",
    "import sqlite3\n",
    "from IPython.utils import io\n",
    "\n",
    "df= pd.read_csv('orchid_observation.csv', index_col='id', parse_dates=['date_observed_on'])\n",
    "df.dtypes"
   ]
  },
  {
   "cell_type": "code",
   "execution_count": 3,
   "id": "c216db56-e5c8-4bfd-bb02-e591e8aab85c",
   "metadata": {
    "tags": []
   },
   "outputs": [
    {
     "name": "stdout",
     "output_type": "stream",
     "text": [
      "The sql extension is already loaded. To reload it, use:\n",
      "  %reload_ext sql\n",
      " * sqlite:///orchid.db\n",
      "Done.\n"
     ]
    },
    {
     "data": {
      "text/html": [
       "<table>\n",
       "    <thead>\n",
       "        <tr>\n",
       "            <th>name</th>\n",
       "        </tr>\n",
       "    </thead>\n",
       "    <tbody>\n",
       "        <tr>\n",
       "            <td>orchid_all</td>\n",
       "        </tr>\n",
       "    </tbody>\n",
       "</table>"
      ],
      "text/plain": [
       "[('orchid_all',)]"
      ]
     },
     "execution_count": 3,
     "metadata": {},
     "output_type": "execute_result"
    }
   ],
   "source": [
    "#loading external SQL magic\n",
    "%load_ext sql\n",
    "#If database is not available, it will create a database\n",
    "%sql sqlite:///orchid.db\n",
    "#print out tabels in the database\n",
    "%sql SELECT name FROM sqlite_master WHERE type='table';"
   ]
  },
  {
   "cell_type": "code",
   "execution_count": 4,
   "id": "072a4906-c43d-4645-9b3d-4891a539cd51",
   "metadata": {
    "tags": []
   },
   "outputs": [
    {
     "name": "stdout",
     "output_type": "stream",
     "text": [
      " * sqlite:///orchid.db\n",
      "Done.\n"
     ]
    },
    {
     "data": {
      "text/html": [
       "<table>\n",
       "    <thead>\n",
       "        <tr>\n",
       "            <th>COUNT(*)</th>\n",
       "        </tr>\n",
       "    </thead>\n",
       "    <tbody>\n",
       "        <tr>\n",
       "            <td>23734</td>\n",
       "        </tr>\n",
       "    </tbody>\n",
       "</table>"
      ],
      "text/plain": [
       "[(23734,)]"
      ]
     },
     "execution_count": 4,
     "metadata": {},
     "output_type": "execute_result"
    }
   ],
   "source": [
    "%sql SELECT COUNT(*) FROM orchid_all"
   ]
  },
  {
   "cell_type": "code",
   "execution_count": 8,
   "id": "3ae4bf75-28ba-48a5-9dc8-d52e91d2f286",
   "metadata": {
    "tags": []
   },
   "outputs": [
    {
     "name": "stdout",
     "output_type": "stream",
     "text": [
      " * sqlite:///orchid.db\n",
      "Done.\n"
     ]
    },
    {
     "data": {
      "text/html": [
       "<table>\n",
       "    <thead>\n",
       "        <tr>\n",
       "            <th>common name</th>\n",
       "            <th>scientific_name</th>\n",
       "            <th>latitude</th>\n",
       "            <th>longitutde</th>\n",
       "            <th>date_observed_on</th>\n",
       "            <th>place_guess</th>\n",
       "            <th>place_state_name</th>\n",
       "            <th>place_country_name</th>\n",
       "        </tr>\n",
       "    </thead>\n",
       "    <tbody>\n",
       "        <tr>\n",
       "            <td>spotted coralroot</td>\n",
       "            <td>Corallorhiza maculata</td>\n",
       "            <td>39.96880703</td>\n",
       "            <td>-105.5496204</td>\n",
       "            <td>2017-06-28</td>\n",
       "            <td>136 Bergren Road Nederland, CO 80466</td>\n",
       "            <td>Colorado</td>\n",
       "            <td>United States</td>\n",
       "        </tr>\n",
       "        <tr>\n",
       "            <td>Tuberous Grasspink</td>\n",
       "            <td>Calopogon tuberosus</td>\n",
       "            <td>45.70125048</td>\n",
       "            <td>-85.53653666</td>\n",
       "            <td>2017-01-01</td>\n",
       "            <td>Beaver Island, Peaine, MI, US</td>\n",
       "            <td>Michigan</td>\n",
       "            <td>United States</td>\n",
       "        </tr>\n",
       "        <tr>\n",
       "            <td>crane-fly orchid</td>\n",
       "            <td>Tipularia discolor</td>\n",
       "            <td>39.20595599</td>\n",
       "            <td>-77.29086307</td>\n",
       "            <td>2017-01-01</td>\n",
       "            <td>Black Hill Regional Park, Boyds, MD</td>\n",
       "            <td>Maryland</td>\n",
       "            <td>United States</td>\n",
       "        </tr>\n",
       "        <tr>\n",
       "            <td>crane-fly orchid</td>\n",
       "            <td>Tipularia discolor</td>\n",
       "            <td>37.59629696</td>\n",
       "            <td>-77.47732401</td>\n",
       "            <td>2017-01-01</td>\n",
       "            <td>Northside, Richmond, VA, USA</td>\n",
       "            <td>Virginia</td>\n",
       "            <td>United States</td>\n",
       "        </tr>\n",
       "        <tr>\n",
       "            <td>crane-fly orchid</td>\n",
       "            <td>Tipularia discolor</td>\n",
       "            <td>35.12957887</td>\n",
       "            <td>-85.35996842</td>\n",
       "            <td>2017-01-01</td>\n",
       "            <td>37377, Signal Mountain, TN, US</td>\n",
       "            <td>Tennessee</td>\n",
       "            <td>United States</td>\n",
       "        </tr>\n",
       "    </tbody>\n",
       "</table>"
      ],
      "text/plain": [
       "[('spotted coralroot', 'Corallorhiza maculata', 39.96880703, -105.5496204, '2017-06-28', '136 Bergren Road Nederland, CO 80466', 'Colorado', 'United States'),\n",
       " ('Tuberous Grasspink', 'Calopogon tuberosus', 45.70125048, -85.53653666, '2017-01-01', 'Beaver Island, Peaine, MI, US', 'Michigan', 'United States'),\n",
       " ('crane-fly orchid', 'Tipularia discolor', 39.20595599, -77.29086307, '2017-01-01', 'Black Hill Regional Park, Boyds, MD', 'Maryland', 'United States'),\n",
       " ('crane-fly orchid', 'Tipularia discolor', 37.59629696, -77.47732401, '2017-01-01', 'Northside, Richmond, VA, USA', 'Virginia', 'United States'),\n",
       " ('crane-fly orchid', 'Tipularia discolor', 35.12957887, -85.35996842, '2017-01-01', '37377, Signal Mountain, TN, US', 'Tennessee', 'United States')]"
      ]
     },
     "execution_count": 8,
     "metadata": {},
     "output_type": "execute_result"
    }
   ],
   "source": [
    "%sql SELECT * FROM orchid_all LIMIT 5"
   ]
  },
  {
   "cell_type": "code",
   "execution_count": 9,
   "id": "dd988e42-8471-4c83-b54d-220ae75faadf",
   "metadata": {
    "tags": []
   },
   "outputs": [
    {
     "name": "stdout",
     "output_type": "stream",
     "text": [
      " * sqlite:///orchid.db\n",
      "Done.\n"
     ]
    },
    {
     "data": {
      "text/plain": [
       "[]"
      ]
     },
     "execution_count": 9,
     "metadata": {},
     "output_type": "execute_result"
    }
   ],
   "source": [
    "%sql CREATE TABLE orcid_temp AS SELECT * FROM orchid_all LIMIT 10000"
   ]
  },
  {
   "cell_type": "code",
   "execution_count": 11,
   "id": "f19af04f-824f-45bf-888e-eabe47f29550",
   "metadata": {
    "tags": []
   },
   "outputs": [
    {
     "name": "stdout",
     "output_type": "stream",
     "text": [
      " * sqlite:///orchid.db\n",
      "Done.\n"
     ]
    },
    {
     "data": {
      "text/html": [
       "<table>\n",
       "    <thead>\n",
       "        <tr>\n",
       "            <th>common name</th>\n",
       "            <th>scientific_name</th>\n",
       "            <th>latitude</th>\n",
       "            <th>longitutde</th>\n",
       "            <th>date_observed_on</th>\n",
       "            <th>place_guess</th>\n",
       "            <th>place_state_name</th>\n",
       "            <th>place_country_name</th>\n",
       "        </tr>\n",
       "    </thead>\n",
       "    <tbody>\n",
       "        <tr>\n",
       "            <td>spotted coralroot</td>\n",
       "            <td>Corallorhiza maculata</td>\n",
       "            <td>39.96880703</td>\n",
       "            <td>-105.5496204</td>\n",
       "            <td>2017-06-28</td>\n",
       "            <td>136 Bergren Road Nederland, CO 80466</td>\n",
       "            <td>Colorado</td>\n",
       "            <td>United States</td>\n",
       "        </tr>\n",
       "        <tr>\n",
       "            <td>Tuberous Grasspink</td>\n",
       "            <td>Calopogon tuberosus</td>\n",
       "            <td>45.70125048</td>\n",
       "            <td>-85.53653666</td>\n",
       "            <td>2017-01-01</td>\n",
       "            <td>Beaver Island, Peaine, MI, US</td>\n",
       "            <td>Michigan</td>\n",
       "            <td>United States</td>\n",
       "        </tr>\n",
       "        <tr>\n",
       "            <td>crane-fly orchid</td>\n",
       "            <td>Tipularia discolor</td>\n",
       "            <td>39.20595599</td>\n",
       "            <td>-77.29086307</td>\n",
       "            <td>2017-01-01</td>\n",
       "            <td>Black Hill Regional Park, Boyds, MD</td>\n",
       "            <td>Maryland</td>\n",
       "            <td>United States</td>\n",
       "        </tr>\n",
       "        <tr>\n",
       "            <td>crane-fly orchid</td>\n",
       "            <td>Tipularia discolor</td>\n",
       "            <td>37.59629696</td>\n",
       "            <td>-77.47732401</td>\n",
       "            <td>2017-01-01</td>\n",
       "            <td>Northside, Richmond, VA, USA</td>\n",
       "            <td>Virginia</td>\n",
       "            <td>United States</td>\n",
       "        </tr>\n",
       "        <tr>\n",
       "            <td>crane-fly orchid</td>\n",
       "            <td>Tipularia discolor</td>\n",
       "            <td>35.12957887</td>\n",
       "            <td>-85.35996842</td>\n",
       "            <td>2017-01-01</td>\n",
       "            <td>37377, Signal Mountain, TN, US</td>\n",
       "            <td>Tennessee</td>\n",
       "            <td>United States</td>\n",
       "        </tr>\n",
       "    </tbody>\n",
       "</table>"
      ],
      "text/plain": [
       "[('spotted coralroot', 'Corallorhiza maculata', 39.96880703, -105.5496204, '2017-06-28', '136 Bergren Road Nederland, CO 80466', 'Colorado', 'United States'),\n",
       " ('Tuberous Grasspink', 'Calopogon tuberosus', 45.70125048, -85.53653666, '2017-01-01', 'Beaver Island, Peaine, MI, US', 'Michigan', 'United States'),\n",
       " ('crane-fly orchid', 'Tipularia discolor', 39.20595599, -77.29086307, '2017-01-01', 'Black Hill Regional Park, Boyds, MD', 'Maryland', 'United States'),\n",
       " ('crane-fly orchid', 'Tipularia discolor', 37.59629696, -77.47732401, '2017-01-01', 'Northside, Richmond, VA, USA', 'Virginia', 'United States'),\n",
       " ('crane-fly orchid', 'Tipularia discolor', 35.12957887, -85.35996842, '2017-01-01', '37377, Signal Mountain, TN, US', 'Tennessee', 'United States')]"
      ]
     },
     "execution_count": 11,
     "metadata": {},
     "output_type": "execute_result"
    }
   ],
   "source": [
    "%sql SELECT * FROM orcid_temp LIMIT 5"
   ]
  },
  {
   "cell_type": "code",
   "execution_count": null,
   "id": "96c89c65-42d5-43ff-bee1-527f468cc61a",
   "metadata": {},
   "outputs": [],
   "source": []
  }
 ],
 "metadata": {
  "kernelspec": {
   "display_name": "Python 3 (ipykernel)",
   "language": "python",
   "name": "python3"
  },
  "language_info": {
   "codemirror_mode": {
    "name": "ipython",
    "version": 3
   },
   "file_extension": ".py",
   "mimetype": "text/x-python",
   "name": "python",
   "nbconvert_exporter": "python",
   "pygments_lexer": "ipython3",
   "version": "3.11.5"
  }
 },
 "nbformat": 4,
 "nbformat_minor": 5
}
