{
 "cells": [
  {
   "cell_type": "code",
   "execution_count": 25,
   "id": "fdf282e9-d743-47af-a143-a68d30bb3fc4",
   "metadata": {
    "tags": []
   },
   "outputs": [
    {
     "data": {
      "text/plain": [
       "common_name                   object\n",
       "scientific_name               object\n",
       "latitude                     float64\n",
       "longitude                    float64\n",
       "date_observed_on      datetime64[ns]\n",
       "place_guess                   object\n",
       "place_state_name              object\n",
       "place_country_name            object\n",
       "dtype: object"
      ]
     },
     "execution_count": 25,
     "metadata": {},
     "output_type": "execute_result"
    }
   ],
   "source": [
    "import numpy as np # linear algebra\n",
    "import pandas as pd # data processing, CSV file I/O (e.g. pd.read_csv)\n",
    "import datetime as dt\n",
    "import time\n",
    "import math\n",
    "# Input data files are available in the \"../input/\" directory.\n",
    "# For example, running this (by clicking run or pressing Shift+Enter) will list all files under the input directory\n",
    "import matplotlib.pyplot as plt\n",
    "import os\n",
    "from pathlib import Path\n",
    "import time\n",
    "import cartopy.crs as ccrs\n",
    "import sqlite3\n",
    "from IPython.utils import io\n",
    "\n",
    "df= pd.read_csv('orchid_observation.csv', index_col='id', parse_dates=['date_observed_on'])\n",
    "df.dtypes"
   ]
  },
  {
   "cell_type": "markdown",
   "id": "a9463f31-15a7-49b4-9278-62ecdaa9c325",
   "metadata": {
    "tags": []
   },
   "source": [
    "# Working with line/cell magic\n",
    "\n",
    "Simply loading SQL databae will not work, we first need to load external script sql"
   ]
  },
  {
   "cell_type": "code",
   "execution_count": 26,
   "id": "07af1fcc-d36e-4495-b391-fc2605ed7bd3",
   "metadata": {},
   "outputs": [
    {
     "name": "stdout",
     "output_type": "stream",
     "text": [
      " * sqlite:///orchid.db\n",
      "Done.\n"
     ]
    },
    {
     "data": {
      "text/html": [
       "<table>\n",
       "    <thead>\n",
       "        <tr>\n",
       "            <th>name</th>\n",
       "        </tr>\n",
       "    </thead>\n",
       "    <tbody>\n",
       "    </tbody>\n",
       "</table>"
      ],
      "text/plain": [
       "[]"
      ]
     },
     "execution_count": 26,
     "metadata": {},
     "output_type": "execute_result"
    }
   ],
   "source": [
    "#loading external SQL magic\n",
    "%load_ext sql\n",
    "#If database is not available, it will create a database\n",
    "%sql sqlite:///orchid.db\n",
    "#print out tabels in the database\n",
    "%sql SELECT name FROM sqlite_master WHERE type='table';"
   ]
  },
  {
   "cell_type": "markdown",
   "id": "192c1499-1fe1-4dab-bb28-06bf3acde4f3",
   "metadata": {},
   "source": [
    "## Create table\n",
    "Now we create a table with few columns, IF NOT EXISTS statement makes sure there isn't a table already present"
   ]
  },
  {
   "cell_type": "code",
   "execution_count": 27,
   "id": "e87f204d-4d91-497a-9a20-802db0db4f51",
   "metadata": {},
   "outputs": [
    {
     "name": "stdout",
     "output_type": "stream",
     "text": [
      " * sqlite:///orchid.db\n",
      "Done.\n",
      "Done.\n"
     ]
    },
    {
     "data": {
      "text/html": [
       "<table>\n",
       "    <thead>\n",
       "        <tr>\n",
       "            <th>name</th>\n",
       "        </tr>\n",
       "    </thead>\n",
       "    <tbody>\n",
       "        <tr>\n",
       "            <td>orchid</td>\n",
       "        </tr>\n",
       "    </tbody>\n",
       "</table>"
      ],
      "text/plain": [
       "[('orchid',)]"
      ]
     },
     "execution_count": 27,
     "metadata": {},
     "output_type": "execute_result"
    }
   ],
   "source": [
    "%%sql\n",
    "CREATE TABLE IF NOT EXISTS orchid ('common name' char, \n",
    "                     'scientific_name' char, \n",
    "                     'latitude' float, \n",
    "                     'longitutde' float );\n",
    "\n",
    "SELECT name FROM sqlite_master WHERE type='table';"
   ]
  },
  {
   "cell_type": "code",
   "execution_count": 28,
   "id": "aee1fdae-063f-429d-a5c2-634a79da9a6b",
   "metadata": {},
   "outputs": [
    {
     "name": "stdout",
     "output_type": "stream",
     "text": [
      " * sqlite:///orchid.db\n",
      "Done.\n"
     ]
    },
    {
     "data": {
      "text/html": [
       "<table>\n",
       "    <thead>\n",
       "        <tr>\n",
       "            <th>common name</th>\n",
       "            <th>scientific_name</th>\n",
       "            <th>latitude</th>\n",
       "            <th>longitutde</th>\n",
       "        </tr>\n",
       "    </thead>\n",
       "    <tbody>\n",
       "    </tbody>\n",
       "</table>"
      ],
      "text/plain": [
       "[]"
      ]
     },
     "execution_count": 28,
     "metadata": {},
     "output_type": "execute_result"
    }
   ],
   "source": [
    "%sql SELECT * FROM orchid LIMIT 5"
   ]
  },
  {
   "cell_type": "markdown",
   "id": "b19bf53d-cdbf-4464-9e27-2e120d7c7d24",
   "metadata": {},
   "source": [
    "### Adding values\n",
    "Now we add a row from *df* using <b>INSERT</b>"
   ]
  },
  {
   "cell_type": "code",
   "execution_count": 29,
   "id": "3c772e28-31d0-4ed3-a7a1-6fd1157c4da0",
   "metadata": {},
   "outputs": [
    {
     "name": "stdout",
     "output_type": "stream",
     "text": [
      " * sqlite:///orchid.db\n",
      "1 rows affected.\n",
      "Done.\n"
     ]
    },
    {
     "data": {
      "text/html": [
       "<table>\n",
       "    <thead>\n",
       "        <tr>\n",
       "            <th>common name</th>\n",
       "            <th>scientific_name</th>\n",
       "            <th>latitude</th>\n",
       "            <th>longitutde</th>\n",
       "        </tr>\n",
       "    </thead>\n",
       "    <tbody>\n",
       "        <tr>\n",
       "            <td>spotted coralroot</td>\n",
       "            <td>Corallorhiza maculata</td>\n",
       "            <td>39.968807</td>\n",
       "            <td>-105.54962</td>\n",
       "        </tr>\n",
       "    </tbody>\n",
       "</table>"
      ],
      "text/plain": [
       "[('spotted coralroot', 'Corallorhiza maculata', 39.968807, -105.54962)]"
      ]
     },
     "execution_count": 29,
     "metadata": {},
     "output_type": "execute_result"
    }
   ],
   "source": [
    "%%sql\n",
    "INSERT INTO orchid VALUES\n",
    "('spotted coralroot', 'Corallorhiza maculata',\n",
    " 39.968807, -105.54962);\n",
    "SELECT * FROM orchid LIMIT 5"
   ]
  },
  {
   "cell_type": "markdown",
   "id": "9a9888a6-af8a-4c00-a287-6978b542f8e6",
   "metadata": {},
   "source": [
    "We can also use python variables to insert values into a SQL table using a ':'"
   ]
  },
  {
   "cell_type": "code",
   "execution_count": 30,
   "id": "fe400753-b0cc-4f1c-9334-99e4279f11ed",
   "metadata": {},
   "outputs": [
    {
     "name": "stdout",
     "output_type": "stream",
     "text": [
      " * sqlite:///orchid.db\n",
      "1 rows affected.\n",
      " * sqlite:///orchid.db\n",
      "Done.\n"
     ]
    },
    {
     "data": {
      "text/html": [
       "<table>\n",
       "    <thead>\n",
       "        <tr>\n",
       "            <th>common name</th>\n",
       "            <th>scientific_name</th>\n",
       "            <th>latitude</th>\n",
       "            <th>longitutde</th>\n",
       "        </tr>\n",
       "    </thead>\n",
       "    <tbody>\n",
       "        <tr>\n",
       "            <td>spotted coralroot</td>\n",
       "            <td>Corallorhiza maculata</td>\n",
       "            <td>39.968807</td>\n",
       "            <td>-105.54962</td>\n",
       "        </tr>\n",
       "        <tr>\n",
       "            <td>Tuberous Grasspink</td>\n",
       "            <td>Calopogon tuberosus</td>\n",
       "            <td>45.70125048</td>\n",
       "            <td>-85.53653666</td>\n",
       "        </tr>\n",
       "    </tbody>\n",
       "</table>"
      ],
      "text/plain": [
       "[('spotted coralroot', 'Corallorhiza maculata', 39.968807, -105.54962),\n",
       " ('Tuberous Grasspink', 'Calopogon tuberosus', 45.70125048, -85.53653666)]"
      ]
     },
     "execution_count": 30,
     "metadata": {},
     "output_type": "execute_result"
    }
   ],
   "source": [
    "common_name = df.iloc[1].common_name\n",
    "scientific_name = df.iloc[1].scientific_name\n",
    "latitude = df.iloc[1].latitude\n",
    "longitude = df.iloc[1].longitude\n",
    "%sql INSERT INTO orchid VALUES (:common_name, :scientific_name, :latitude, :longitude);\n",
    "%sql SELECT * FROM orchid LIMIT 5"
   ]
  },
  {
   "cell_type": "markdown",
   "id": "8c0d9dc1-b901-417b-8019-92e3fab515f7",
   "metadata": {},
   "source": [
    "Lets use a for loop to include the rest of the rows into the table"
   ]
  },
  {
   "cell_type": "code",
   "execution_count": 31,
   "id": "0616f04e-f85a-4a60-b8fe-38c77045d434",
   "metadata": {},
   "outputs": [
    {
     "name": "stdout",
     "output_type": "stream",
     "text": [
      " * sqlite:///orchid.db\n",
      "2 rows affected.\n",
      " * sqlite:///orchid.db\n",
      "Done.\n"
     ]
    }
   ],
   "source": [
    "#we delete all data from orchid so we can add data from csv \n",
    "#to the table\n",
    "%sql DELETE FROM orchid;\n",
    "%sql SELECT * FROM orchid;\n",
    "\n",
    "#add 100 rows from from the csv to the tables\n",
    "#io.capture_output supresses each print statement from sql code\n",
    "\n",
    "for i in range(100):\n",
    "    \n",
    "    common_name = df.iloc[i].common_name\n",
    "    scientific_name = df.iloc[i].scientific_name\n",
    "    latitude = df.iloc[i].latitude\n",
    "    longitude = df.iloc[i].longitude\n",
    "    \n",
    "    with io.capture_output(): #to stop outputs from printing\n",
    "        %sql INSERT INTO orchid VALUES (:common_name, :scientific_name, :latitude, :longitude);\n",
    "        \n"
   ]
  },
  {
   "cell_type": "code",
   "execution_count": 32,
   "id": "4d673764-7808-4660-ba5b-1497f0806f92",
   "metadata": {},
   "outputs": [
    {
     "name": "stdout",
     "output_type": "stream",
     "text": [
      " * sqlite:///orchid.db\n",
      "Done.\n"
     ]
    },
    {
     "data": {
      "text/html": [
       "<table>\n",
       "    <thead>\n",
       "        <tr>\n",
       "            <th>common name</th>\n",
       "            <th>scientific_name</th>\n",
       "            <th>latitude</th>\n",
       "            <th>longitutde</th>\n",
       "        </tr>\n",
       "    </thead>\n",
       "    <tbody>\n",
       "        <tr>\n",
       "            <td>spotted coralroot</td>\n",
       "            <td>Corallorhiza maculata</td>\n",
       "            <td>39.96880703</td>\n",
       "            <td>-105.5496204</td>\n",
       "        </tr>\n",
       "        <tr>\n",
       "            <td>Tuberous Grasspink</td>\n",
       "            <td>Calopogon tuberosus</td>\n",
       "            <td>45.70125048</td>\n",
       "            <td>-85.53653666</td>\n",
       "        </tr>\n",
       "        <tr>\n",
       "            <td>crane-fly orchid</td>\n",
       "            <td>Tipularia discolor</td>\n",
       "            <td>39.20595599</td>\n",
       "            <td>-77.29086307</td>\n",
       "        </tr>\n",
       "        <tr>\n",
       "            <td>crane-fly orchid</td>\n",
       "            <td>Tipularia discolor</td>\n",
       "            <td>37.59629696</td>\n",
       "            <td>-77.47732401</td>\n",
       "        </tr>\n",
       "        <tr>\n",
       "            <td>crane-fly orchid</td>\n",
       "            <td>Tipularia discolor</td>\n",
       "            <td>35.12957887</td>\n",
       "            <td>-85.35996842</td>\n",
       "        </tr>\n",
       "    </tbody>\n",
       "</table>"
      ],
      "text/plain": [
       "[('spotted coralroot', 'Corallorhiza maculata', 39.96880703, -105.5496204),\n",
       " ('Tuberous Grasspink', 'Calopogon tuberosus', 45.70125048, -85.53653666),\n",
       " ('crane-fly orchid', 'Tipularia discolor', 39.20595599, -77.29086307),\n",
       " ('crane-fly orchid', 'Tipularia discolor', 37.59629696, -77.47732401),\n",
       " ('crane-fly orchid', 'Tipularia discolor', 35.12957887, -85.35996842)]"
      ]
     },
     "execution_count": 32,
     "metadata": {},
     "output_type": "execute_result"
    }
   ],
   "source": [
    "%%sql\n",
    "SELECT * FROM orchid\n",
    "LIMIT 5;"
   ]
  },
  {
   "cell_type": "markdown",
   "id": "dfeb6fa4-c31f-42b2-abc5-49c37b0a32ce",
   "metadata": {},
   "source": [
    "## Modify table"
   ]
  },
  {
   "cell_type": "markdown",
   "id": "9f97f526-fc62-4fea-a6d2-eef85c2ef701",
   "metadata": {},
   "source": [
    "### Insert and Delete a new Column\n",
    "\n",
    "We use the <b>ALTER</> command to add a new column"
   ]
  },
  {
   "cell_type": "code",
   "execution_count": 33,
   "id": "9716100e-8334-4dd2-adab-6062dfb7b4a4",
   "metadata": {},
   "outputs": [
    {
     "name": "stdout",
     "output_type": "stream",
     "text": [
      " * sqlite:///orchid.db\n",
      "Done.\n",
      "Done.\n",
      "Done.\n"
     ]
    },
    {
     "data": {
      "text/html": [
       "<table>\n",
       "    <thead>\n",
       "        <tr>\n",
       "            <th>common name</th>\n",
       "            <th>scientific_name</th>\n",
       "            <th>latitude</th>\n",
       "            <th>longitutde</th>\n",
       "            <th>private_latitude</th>\n",
       "            <th>private_longitude</th>\n",
       "        </tr>\n",
       "    </thead>\n",
       "    <tbody>\n",
       "        <tr>\n",
       "            <td>spotted coralroot</td>\n",
       "            <td>Corallorhiza maculata</td>\n",
       "            <td>39.96880703</td>\n",
       "            <td>-105.5496204</td>\n",
       "            <td>None</td>\n",
       "            <td>None</td>\n",
       "        </tr>\n",
       "        <tr>\n",
       "            <td>Tuberous Grasspink</td>\n",
       "            <td>Calopogon tuberosus</td>\n",
       "            <td>45.70125048</td>\n",
       "            <td>-85.53653666</td>\n",
       "            <td>None</td>\n",
       "            <td>None</td>\n",
       "        </tr>\n",
       "        <tr>\n",
       "            <td>crane-fly orchid</td>\n",
       "            <td>Tipularia discolor</td>\n",
       "            <td>39.20595599</td>\n",
       "            <td>-77.29086307</td>\n",
       "            <td>None</td>\n",
       "            <td>None</td>\n",
       "        </tr>\n",
       "        <tr>\n",
       "            <td>crane-fly orchid</td>\n",
       "            <td>Tipularia discolor</td>\n",
       "            <td>37.59629696</td>\n",
       "            <td>-77.47732401</td>\n",
       "            <td>None</td>\n",
       "            <td>None</td>\n",
       "        </tr>\n",
       "        <tr>\n",
       "            <td>crane-fly orchid</td>\n",
       "            <td>Tipularia discolor</td>\n",
       "            <td>35.12957887</td>\n",
       "            <td>-85.35996842</td>\n",
       "            <td>None</td>\n",
       "            <td>None</td>\n",
       "        </tr>\n",
       "    </tbody>\n",
       "</table>"
      ],
      "text/plain": [
       "[('spotted coralroot', 'Corallorhiza maculata', 39.96880703, -105.5496204, None, None),\n",
       " ('Tuberous Grasspink', 'Calopogon tuberosus', 45.70125048, -85.53653666, None, None),\n",
       " ('crane-fly orchid', 'Tipularia discolor', 39.20595599, -77.29086307, None, None),\n",
       " ('crane-fly orchid', 'Tipularia discolor', 37.59629696, -77.47732401, None, None),\n",
       " ('crane-fly orchid', 'Tipularia discolor', 35.12957887, -85.35996842, None, None)]"
      ]
     },
     "execution_count": 33,
     "metadata": {},
     "output_type": "execute_result"
    }
   ],
   "source": [
    "%%sql\n",
    "ALTER TABLE orchid\n",
    "ADD COLUMN 'private_latitude' FLOAT;\n",
    "\n",
    "ALTER TABLE orchid\n",
    "ADD COLUMN 'private_longitude' FLOAT;\n",
    "\n",
    "SELECT * FROM orchid LIMIT 5"
   ]
  },
  {
   "cell_type": "markdown",
   "id": "47aeea69-bf79-4981-a50e-4f3869910f38",
   "metadata": {},
   "source": [
    "Lets drop the newly added columns"
   ]
  },
  {
   "cell_type": "code",
   "execution_count": 34,
   "id": "e417a35c-55ec-4c6e-8a1c-e6fd7feaf2d3",
   "metadata": {},
   "outputs": [
    {
     "name": "stdout",
     "output_type": "stream",
     "text": [
      " * sqlite:///orchid.db\n",
      "Done.\n",
      "Done.\n",
      "Done.\n"
     ]
    },
    {
     "data": {
      "text/html": [
       "<table>\n",
       "    <thead>\n",
       "        <tr>\n",
       "            <th>common name</th>\n",
       "            <th>scientific_name</th>\n",
       "            <th>latitude</th>\n",
       "            <th>longitutde</th>\n",
       "        </tr>\n",
       "    </thead>\n",
       "    <tbody>\n",
       "        <tr>\n",
       "            <td>spotted coralroot</td>\n",
       "            <td>Corallorhiza maculata</td>\n",
       "            <td>39.96880703</td>\n",
       "            <td>-105.5496204</td>\n",
       "        </tr>\n",
       "        <tr>\n",
       "            <td>Tuberous Grasspink</td>\n",
       "            <td>Calopogon tuberosus</td>\n",
       "            <td>45.70125048</td>\n",
       "            <td>-85.53653666</td>\n",
       "        </tr>\n",
       "        <tr>\n",
       "            <td>crane-fly orchid</td>\n",
       "            <td>Tipularia discolor</td>\n",
       "            <td>39.20595599</td>\n",
       "            <td>-77.29086307</td>\n",
       "        </tr>\n",
       "        <tr>\n",
       "            <td>crane-fly orchid</td>\n",
       "            <td>Tipularia discolor</td>\n",
       "            <td>37.59629696</td>\n",
       "            <td>-77.47732401</td>\n",
       "        </tr>\n",
       "        <tr>\n",
       "            <td>crane-fly orchid</td>\n",
       "            <td>Tipularia discolor</td>\n",
       "            <td>35.12957887</td>\n",
       "            <td>-85.35996842</td>\n",
       "        </tr>\n",
       "    </tbody>\n",
       "</table>"
      ],
      "text/plain": [
       "[('spotted coralroot', 'Corallorhiza maculata', 39.96880703, -105.5496204),\n",
       " ('Tuberous Grasspink', 'Calopogon tuberosus', 45.70125048, -85.53653666),\n",
       " ('crane-fly orchid', 'Tipularia discolor', 39.20595599, -77.29086307),\n",
       " ('crane-fly orchid', 'Tipularia discolor', 37.59629696, -77.47732401),\n",
       " ('crane-fly orchid', 'Tipularia discolor', 35.12957887, -85.35996842)]"
      ]
     },
     "execution_count": 34,
     "metadata": {},
     "output_type": "execute_result"
    }
   ],
   "source": [
    "%%sql\n",
    "ALTER TABLE orchid\n",
    "DROP COLUMN 'private_latitude';\n",
    "ALTER TABLE orchid\n",
    "DROP COLUMN 'private_longitude';\n",
    "\n",
    "SELECT * FROM orchid LIMIT 5"
   ]
  },
  {
   "cell_type": "markdown",
   "id": "0507b967-2c29-47e6-9f19-648984fdea8d",
   "metadata": {},
   "source": [
    "### Truncate\n",
    "To truncate a table the SQL command **TRUNCATE** doesn't work.  Instead we use the comman **DELETE**"
   ]
  },
  {
   "cell_type": "code",
   "execution_count": 35,
   "id": "654793af-82cc-4783-9367-6e6feaf38d94",
   "metadata": {},
   "outputs": [
    {
     "name": "stdout",
     "output_type": "stream",
     "text": [
      " * sqlite:///orchid.db\n",
      "100 rows affected.\n",
      "Done.\n"
     ]
    },
    {
     "data": {
      "text/html": [
       "<table>\n",
       "    <thead>\n",
       "        <tr>\n",
       "            <th>common name</th>\n",
       "            <th>scientific_name</th>\n",
       "            <th>latitude</th>\n",
       "            <th>longitutde</th>\n",
       "        </tr>\n",
       "    </thead>\n",
       "    <tbody>\n",
       "    </tbody>\n",
       "</table>"
      ],
      "text/plain": [
       "[]"
      ]
     },
     "execution_count": 35,
     "metadata": {},
     "output_type": "execute_result"
    }
   ],
   "source": [
    "%%sql\n",
    "DELETE FROM orchid;\n",
    "SELECT * FROM orchid LIMIT 5"
   ]
  },
  {
   "cell_type": "markdown",
   "id": "f2dcfcd7-e836-4783-8834-a660957c3b2f",
   "metadata": {},
   "source": [
    "### Change the name of a column\n",
    "To change the name of a column we use the command **RENAME**"
   ]
  },
  {
   "cell_type": "code",
   "execution_count": 36,
   "id": "a30d28a5-3a78-49f3-9055-99b492679b0b",
   "metadata": {},
   "outputs": [
    {
     "name": "stdout",
     "output_type": "stream",
     "text": [
      " * sqlite:///orchid.db\n",
      "Done.\n",
      "Done.\n"
     ]
    },
    {
     "data": {
      "text/html": [
       "<table>\n",
       "    <thead>\n",
       "        <tr>\n",
       "            <th>common name</th>\n",
       "            <th>scientificname</th>\n",
       "            <th>latitude</th>\n",
       "            <th>longitutde</th>\n",
       "        </tr>\n",
       "    </thead>\n",
       "    <tbody>\n",
       "    </tbody>\n",
       "</table>"
      ],
      "text/plain": [
       "[]"
      ]
     },
     "execution_count": 36,
     "metadata": {},
     "output_type": "execute_result"
    }
   ],
   "source": [
    "%%sql\n",
    "ALTER TABLE orchid RENAME 'scientific_name' TO 'scientificname';\n",
    "SELECT * FROM orchid"
   ]
  },
  {
   "cell_type": "markdown",
   "id": "1fdb5004-49b2-40f3-a096-238a6c5073ad",
   "metadata": {
    "tags": []
   },
   "source": [
    "### Delete table\n",
    "Now to delete the table, and to check if the table is actually deleted."
   ]
  },
  {
   "cell_type": "code",
   "execution_count": 38,
   "id": "eccab9a8-56a4-490c-bca0-8f87df705885",
   "metadata": {
    "tags": []
   },
   "outputs": [
    {
     "name": "stdout",
     "output_type": "stream",
     "text": [
      " * sqlite:///orchid.db\n",
      "(sqlite3.OperationalError) no such table: orchid\n",
      "[SQL: DROP TABLE orchid]\n",
      "(Background on this error at: https://sqlalche.me/e/20/e3q8)\n",
      " * sqlite:///orchid.db\n",
      "Done.\n"
     ]
    },
    {
     "data": {
      "text/html": [
       "<table>\n",
       "    <thead>\n",
       "        <tr>\n",
       "            <th>name</th>\n",
       "        </tr>\n",
       "    </thead>\n",
       "    <tbody>\n",
       "    </tbody>\n",
       "</table>"
      ],
      "text/plain": [
       "[]"
      ]
     },
     "execution_count": 38,
     "metadata": {},
     "output_type": "execute_result"
    }
   ],
   "source": [
    "%sql DROP TABLE orchid\n",
    "%sql SELECT name FROM sqlite_master WHERE type='table';"
   ]
  },
  {
   "cell_type": "code",
   "execution_count": null,
   "id": "1e0ea34b-affe-4c20-a92a-33709636b89e",
   "metadata": {},
   "outputs": [],
   "source": []
  },
  {
   "cell_type": "markdown",
   "id": "45b99fb9-8be9-47c4-b9c1-517820647b0c",
   "metadata": {},
   "source": [
    "# Write the CSV to sql\n",
    "Uncomment the following code to write new entries to the table **orchid_full**"
   ]
  },
  {
   "cell_type": "code",
   "execution_count": 43,
   "id": "f4c46d54-d803-408f-a2f7-ced84687a3e3",
   "metadata": {
    "tags": []
   },
   "outputs": [
    {
     "name": "stdout",
     "output_type": "stream",
     "text": [
      "The sql extension is already loaded. To reload it, use:\n",
      "  %reload_ext sql\n"
     ]
    }
   ],
   "source": [
    "%load_ext sql\n",
    "%sql sqlite:///orchid.db"
   ]
  },
  {
   "cell_type": "code",
   "execution_count": 45,
   "id": "28c1855d-4d2e-4c76-97e9-8ab869380448",
   "metadata": {
    "tags": []
   },
   "outputs": [
    {
     "name": "stdout",
     "output_type": "stream",
     "text": [
      " * sqlite:///orchid.db\n",
      "Done.\n",
      "Done.\n"
     ]
    },
    {
     "data": {
      "text/html": [
       "<table>\n",
       "    <thead>\n",
       "        <tr>\n",
       "            <th>name</th>\n",
       "        </tr>\n",
       "    </thead>\n",
       "    <tbody>\n",
       "        <tr>\n",
       "            <td>orchid_all</td>\n",
       "        </tr>\n",
       "    </tbody>\n",
       "</table>"
      ],
      "text/plain": [
       "[('orchid_all',)]"
      ]
     },
     "execution_count": 45,
     "metadata": {},
     "output_type": "execute_result"
    }
   ],
   "source": [
    "%%sql\n",
    "CREATE TABLE IF NOT EXISTS orchid_all ('common name' char, \n",
    "                     'scientific_name' char, \n",
    "                     'latitude' float, \n",
    "                     'longitutde' float,\n",
    "                     'date_observed_on'  date,\n",
    "                     'place_guess' char,\n",
    "                     'place_state_name' char,\n",
    "                     'place_country_name' char );\n",
    "SELECT name FROM sqlite_master WHERE type='table';"
   ]
  },
  {
   "cell_type": "code",
   "execution_count": 59,
   "id": "6446b7c6-da9b-4fe5-90f0-9c7c2b94e20a",
   "metadata": {
    "tags": []
   },
   "outputs": [
    {
     "data": {
      "text/plain": [
       "'\\n%load_ext sql\\n%sql sqlite:///orchid.db\\n\\nstart_time_master = time.time()\\nstart_time = time.time()\\n\\nfor i in range(len(df)):\\n    if i and i % 5000 == 0:\\n        et = time.time()-start_time_master\\n        m = math.floor(et/60)\\n        s = round(et-m*60, 2)\\n        \\n        print(\"number of inputs \", i, \" time elapsed \", \\n              m, \" minutes \", s, \" seconds\")\\n        start_time = time.time()\\n        \\n    common_name = df.iloc[i].common_name\\n    scientific_name = df.iloc[i].scientific_name\\n    latitude = df.iloc[i].latitude\\n    longitude = df.iloc[i].longitude\\n    date_observed_on = df.iloc[i].date_observed_on\\n    place_guess = df.iloc[i].place_guess\\n    place_state_name = df.iloc[i].place_state_name\\n    place_country_name = df.iloc[i].place_country_name\\n\\n    with io.capture_output(): #to stop outputs from printing\\n        %sql INSERT INTO orchid_all VALUES (:common_name, :scientific_name, :latitude, :longitude, :date_observed_on, :place_guess, :place_state_name, :place_country_name );\\n    #%sql INSERT INTO orchid_all VALUES (:common_name, :scientific_name, :latitude, :longitude, :date_observed_on, :place_guess, :place_state_name, :place_country_name);\\n\\nelapsed_time = time.time()-start_time_master\\nminutes = math.floor(elapsed_time/60)\\nseconds = round(elapsed_time-minutes*60, 2)\\nprint(\"\\nit took: \", minutes, \" minutes \", seconds, \" seconds\")\\n\\n'"
      ]
     },
     "execution_count": 59,
     "metadata": {},
     "output_type": "execute_result"
    }
   ],
   "source": [
    "df= pd.read_csv('orchid_observation.csv', index_col='id')\n",
    "'''\n",
    "%load_ext sql\n",
    "%sql sqlite:///orchid.db\n",
    "\n",
    "start_time_master = time.time()\n",
    "start_time = time.time()\n",
    "\n",
    "for i in range(len(df)):\n",
    "    if i and i % 5000 == 0:\n",
    "        et = time.time()-start_time_master\n",
    "        m = math.floor(et/60)\n",
    "        s = round(et-m*60, 2)\n",
    "        \n",
    "        print(\"number of inputs \", i, \" time elapsed \", \n",
    "              m, \" minutes \", s, \" seconds\")\n",
    "        start_time = time.time()\n",
    "        \n",
    "    common_name = df.iloc[i].common_name\n",
    "    scientific_name = df.iloc[i].scientific_name\n",
    "    latitude = df.iloc[i].latitude\n",
    "    longitude = df.iloc[i].longitude\n",
    "    date_observed_on = df.iloc[i].date_observed_on\n",
    "    place_guess = df.iloc[i].place_guess\n",
    "    place_state_name = df.iloc[i].place_state_name\n",
    "    place_country_name = df.iloc[i].place_country_name\n",
    "\n",
    "    with io.capture_output(): #to stop outputs from printing\n",
    "        %sql INSERT INTO orchid_all VALUES (:common_name, :scientific_name, :latitude, :longitude, :date_observed_on, :place_guess, :place_state_name, :place_country_name );\n",
    "    #%sql INSERT INTO orchid_all VALUES (:common_name, :scientific_name, :latitude, :longitude, :date_observed_on, :place_guess, :place_state_name, :place_country_name);\n",
    "\n",
    "elapsed_time = time.time()-start_time_master\n",
    "minutes = math.floor(elapsed_time/60)\n",
    "seconds = round(elapsed_time-minutes*60, 2)\n",
    "print(\"\\nit took: \", minutes, \" minutes \", seconds, \" seconds\")\n",
    "\n",
    "'''"
   ]
  },
  {
   "cell_type": "code",
   "execution_count": 60,
   "id": "4af7c5ce-3938-4abb-aadb-b2531e410a4c",
   "metadata": {
    "tags": []
   },
   "outputs": [
    {
     "name": "stdout",
     "output_type": "stream",
     "text": [
      " * sqlite:///orchid.db\n",
      "Done.\n"
     ]
    },
    {
     "data": {
      "text/html": [
       "<table>\n",
       "    <thead>\n",
       "        <tr>\n",
       "            <th>common name</th>\n",
       "            <th>scientific_name</th>\n",
       "            <th>latitude</th>\n",
       "            <th>longitutde</th>\n",
       "            <th>date_observed_on</th>\n",
       "            <th>place_guess</th>\n",
       "            <th>place_state_name</th>\n",
       "            <th>place_country_name</th>\n",
       "        </tr>\n",
       "    </thead>\n",
       "    <tbody>\n",
       "        <tr>\n",
       "            <td>spotted coralroot</td>\n",
       "            <td>Corallorhiza maculata</td>\n",
       "            <td>39.96880703</td>\n",
       "            <td>-105.5496204</td>\n",
       "            <td>2017-06-28</td>\n",
       "            <td>136 Bergren Road Nederland, CO 80466</td>\n",
       "            <td>Colorado</td>\n",
       "            <td>United States</td>\n",
       "        </tr>\n",
       "        <tr>\n",
       "            <td>Tuberous Grasspink</td>\n",
       "            <td>Calopogon tuberosus</td>\n",
       "            <td>45.70125048</td>\n",
       "            <td>-85.53653666</td>\n",
       "            <td>2017-01-01</td>\n",
       "            <td>Beaver Island, Peaine, MI, US</td>\n",
       "            <td>Michigan</td>\n",
       "            <td>United States</td>\n",
       "        </tr>\n",
       "        <tr>\n",
       "            <td>crane-fly orchid</td>\n",
       "            <td>Tipularia discolor</td>\n",
       "            <td>39.20595599</td>\n",
       "            <td>-77.29086307</td>\n",
       "            <td>2017-01-01</td>\n",
       "            <td>Black Hill Regional Park, Boyds, MD</td>\n",
       "            <td>Maryland</td>\n",
       "            <td>United States</td>\n",
       "        </tr>\n",
       "        <tr>\n",
       "            <td>crane-fly orchid</td>\n",
       "            <td>Tipularia discolor</td>\n",
       "            <td>37.59629696</td>\n",
       "            <td>-77.47732401</td>\n",
       "            <td>2017-01-01</td>\n",
       "            <td>Northside, Richmond, VA, USA</td>\n",
       "            <td>Virginia</td>\n",
       "            <td>United States</td>\n",
       "        </tr>\n",
       "        <tr>\n",
       "            <td>crane-fly orchid</td>\n",
       "            <td>Tipularia discolor</td>\n",
       "            <td>35.12957887</td>\n",
       "            <td>-85.35996842</td>\n",
       "            <td>2017-01-01</td>\n",
       "            <td>37377, Signal Mountain, TN, US</td>\n",
       "            <td>Tennessee</td>\n",
       "            <td>United States</td>\n",
       "        </tr>\n",
       "    </tbody>\n",
       "</table>"
      ],
      "text/plain": [
       "[('spotted coralroot', 'Corallorhiza maculata', 39.96880703, -105.5496204, '2017-06-28', '136 Bergren Road Nederland, CO 80466', 'Colorado', 'United States'),\n",
       " ('Tuberous Grasspink', 'Calopogon tuberosus', 45.70125048, -85.53653666, '2017-01-01', 'Beaver Island, Peaine, MI, US', 'Michigan', 'United States'),\n",
       " ('crane-fly orchid', 'Tipularia discolor', 39.20595599, -77.29086307, '2017-01-01', 'Black Hill Regional Park, Boyds, MD', 'Maryland', 'United States'),\n",
       " ('crane-fly orchid', 'Tipularia discolor', 37.59629696, -77.47732401, '2017-01-01', 'Northside, Richmond, VA, USA', 'Virginia', 'United States'),\n",
       " ('crane-fly orchid', 'Tipularia discolor', 35.12957887, -85.35996842, '2017-01-01', '37377, Signal Mountain, TN, US', 'Tennessee', 'United States')]"
      ]
     },
     "execution_count": 60,
     "metadata": {},
     "output_type": "execute_result"
    }
   ],
   "source": [
    "%%sql\n",
    "SELECT * FROM orchid_all\n",
    "LIMIT 5;"
   ]
  },
  {
   "cell_type": "code",
   "execution_count": null,
   "id": "9367bbe4-ef38-4acc-9802-f36de2c27958",
   "metadata": {},
   "outputs": [],
   "source": []
  }
 ],
 "metadata": {
  "kernelspec": {
   "display_name": "Python 3 (ipykernel)",
   "language": "python",
   "name": "python3"
  },
  "language_info": {
   "codemirror_mode": {
    "name": "ipython",
    "version": 3
   },
   "file_extension": ".py",
   "mimetype": "text/x-python",
   "name": "python",
   "nbconvert_exporter": "python",
   "pygments_lexer": "ipython3",
   "version": "3.11.5"
  }
 },
 "nbformat": 4,
 "nbformat_minor": 5
}
