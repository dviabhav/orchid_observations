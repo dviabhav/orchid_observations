{
 "cells": [
  {
   "cell_type": "code",
   "execution_count": 1,
   "id": "fdf282e9-d743-47af-a143-a68d30bb3fc4",
   "metadata": {
    "tags": []
   },
   "outputs": [
    {
     "data": {
      "text/plain": [
       "common_name                   object\n",
       "scientific_name               object\n",
       "latitude                     float64\n",
       "longitude                    float64\n",
       "date_observed_on      datetime64[ns]\n",
       "place_guess                   object\n",
       "place_state_name              object\n",
       "place_country_name            object\n",
       "dtype: object"
      ]
     },
     "execution_count": 1,
     "metadata": {},
     "output_type": "execute_result"
    }
   ],
   "source": [
    "import numpy as np # linear algebra\n",
    "import pandas as pd # data processing, CSV file I/O (e.g. pd.read_csv)\n",
    "import datetime as dt\n",
    "import time\n",
    "import math\n",
    "# Input data files are available in the \"../input/\" directory.\n",
    "# For example, running this (by clicking run or pressing Shift+Enter) will list all files under the input directory\n",
    "import matplotlib.pyplot as plt\n",
    "import os\n",
    "from pathlib import Path\n",
    "import time\n",
    "import cartopy.crs as ccrs\n",
    "import sqlite3\n",
    "from IPython.utils import io\n",
    "\n",
    "df= pd.read_csv('orchid_observation.csv', index_col='id', parse_dates=['date_observed_on'])\n",
    "df.dtypes"
   ]
  },
  {
   "cell_type": "markdown",
   "id": "a9463f31-15a7-49b4-9278-62ecdaa9c325",
   "metadata": {
    "tags": []
   },
   "source": [
    "# Working with line/cell magic\n",
    "\n",
    "Simply loading SQL databae will not work, we first need to load external script sql"
   ]
  },
  {
   "cell_type": "code",
   "execution_count": 2,
   "id": "07af1fcc-d36e-4495-b391-fc2605ed7bd3",
   "metadata": {},
   "outputs": [
    {
     "name": "stdout",
     "output_type": "stream",
     "text": [
      " * sqlite:///orchid.db\n",
      "Done.\n"
     ]
    },
    {
     "data": {
      "text/html": [
       "<table>\n",
       "    <thead>\n",
       "        <tr>\n",
       "            <th>name</th>\n",
       "        </tr>\n",
       "    </thead>\n",
       "    <tbody>\n",
       "        <tr>\n",
       "            <td>orchid_all</td>\n",
       "        </tr>\n",
       "    </tbody>\n",
       "</table>"
      ],
      "text/plain": [
       "[('orchid_all',)]"
      ]
     },
     "execution_count": 2,
     "metadata": {},
     "output_type": "execute_result"
    }
   ],
   "source": [
    "#loading external SQL magic\n",
    "%load_ext sql\n",
    "#If database is not available, it will create a database\n",
    "%sql sqlite:///orchid.db\n",
    "#print out tabels in the database\n",
    "%sql SELECT name FROM sqlite_master WHERE type='table';"
   ]
  },
  {
   "cell_type": "markdown",
   "id": "192c1499-1fe1-4dab-bb28-06bf3acde4f3",
   "metadata": {},
   "source": [
    "## Create table\n",
    "Now we create a table with few columns, IF NOT EXISTS statement makes sure there isn't a table already present"
   ]
  },
  {
   "cell_type": "code",
   "execution_count": 27,
   "id": "e87f204d-4d91-497a-9a20-802db0db4f51",
   "metadata": {},
   "outputs": [
    {
     "name": "stdout",
     "output_type": "stream",
     "text": [
      " * sqlite:///orchid.db\n",
      "Done.\n",
      "Done.\n"
     ]
    },
    {
     "data": {
      "text/html": [
       "<table>\n",
       "    <thead>\n",
       "        <tr>\n",
       "            <th>name</th>\n",
       "        </tr>\n",
       "    </thead>\n",
       "    <tbody>\n",
       "        <tr>\n",
       "            <td>orchid</td>\n",
       "        </tr>\n",
       "    </tbody>\n",
       "</table>"
      ],
      "text/plain": [
       "[('orchid',)]"
      ]
     },
     "execution_count": 27,
     "metadata": {},
     "output_type": "execute_result"
    }
   ],
   "source": [
    "%%sql\n",
    "CREATE TABLE IF NOT EXISTS orchid ('common name' char, \n",
    "                     'scientific_name' char, \n",
    "                     'latitude' float, \n",
    "                     'longitutde' float );\n",
    "\n",
    "SELECT name FROM sqlite_master WHERE type='table';"
   ]
  },
  {
   "cell_type": "code",
   "execution_count": 28,
   "id": "aee1fdae-063f-429d-a5c2-634a79da9a6b",
   "metadata": {},
   "outputs": [
    {
     "name": "stdout",
     "output_type": "stream",
     "text": [
      " * sqlite:///orchid.db\n",
      "Done.\n"
     ]
    },
    {
     "data": {
      "text/html": [
       "<table>\n",
       "    <thead>\n",
       "        <tr>\n",
       "            <th>common name</th>\n",
       "            <th>scientific_name</th>\n",
       "            <th>latitude</th>\n",
       "            <th>longitutde</th>\n",
       "        </tr>\n",
       "    </thead>\n",
       "    <tbody>\n",
       "    </tbody>\n",
       "</table>"
      ],
      "text/plain": [
       "[]"
      ]
     },
     "execution_count": 28,
     "metadata": {},
     "output_type": "execute_result"
    }
   ],
   "source": [
    "%sql SELECT * FROM orchid LIMIT 5"
   ]
  },
  {
   "cell_type": "markdown",
   "id": "b19bf53d-cdbf-4464-9e27-2e120d7c7d24",
   "metadata": {},
   "source": [
    "### Adding values\n",
    "Now we add a row from *df* using <b>INSERT</b>"
   ]
  },
  {
   "cell_type": "code",
   "execution_count": 29,
   "id": "3c772e28-31d0-4ed3-a7a1-6fd1157c4da0",
   "metadata": {},
   "outputs": [
    {
     "name": "stdout",
     "output_type": "stream",
     "text": [
      " * sqlite:///orchid.db\n",
      "1 rows affected.\n",
      "Done.\n"
     ]
    },
    {
     "data": {
      "text/html": [
       "<table>\n",
       "    <thead>\n",
       "        <tr>\n",
       "            <th>common name</th>\n",
       "            <th>scientific_name</th>\n",
       "            <th>latitude</th>\n",
       "            <th>longitutde</th>\n",
       "        </tr>\n",
       "    </thead>\n",
       "    <tbody>\n",
       "        <tr>\n",
       "            <td>spotted coralroot</td>\n",
       "            <td>Corallorhiza maculata</td>\n",
       "            <td>39.968807</td>\n",
       "            <td>-105.54962</td>\n",
       "        </tr>\n",
       "    </tbody>\n",
       "</table>"
      ],
      "text/plain": [
       "[('spotted coralroot', 'Corallorhiza maculata', 39.968807, -105.54962)]"
      ]
     },
     "execution_count": 29,
     "metadata": {},
     "output_type": "execute_result"
    }
   ],
   "source": [
    "%%sql\n",
    "INSERT INTO orchid VALUES\n",
    "('spotted coralroot', 'Corallorhiza maculata',\n",
    " 39.968807, -105.54962);\n",
    "SELECT * FROM orchid LIMIT 5"
   ]
  },
  {
   "cell_type": "markdown",
   "id": "9a9888a6-af8a-4c00-a287-6978b542f8e6",
   "metadata": {},
   "source": [
    "We can also use python variables to insert values into a SQL table using a ':'"
   ]
  },
  {
   "cell_type": "code",
   "execution_count": 30,
   "id": "fe400753-b0cc-4f1c-9334-99e4279f11ed",
   "metadata": {},
   "outputs": [
    {
     "name": "stdout",
     "output_type": "stream",
     "text": [
      " * sqlite:///orchid.db\n",
      "1 rows affected.\n",
      " * sqlite:///orchid.db\n",
      "Done.\n"
     ]
    },
    {
     "data": {
      "text/html": [
       "<table>\n",
       "    <thead>\n",
       "        <tr>\n",
       "            <th>common name</th>\n",
       "            <th>scientific_name</th>\n",
       "            <th>latitude</th>\n",
       "            <th>longitutde</th>\n",
       "        </tr>\n",
       "    </thead>\n",
       "    <tbody>\n",
       "        <tr>\n",
       "            <td>spotted coralroot</td>\n",
       "            <td>Corallorhiza maculata</td>\n",
       "            <td>39.968807</td>\n",
       "            <td>-105.54962</td>\n",
       "        </tr>\n",
       "        <tr>\n",
       "            <td>Tuberous Grasspink</td>\n",
       "            <td>Calopogon tuberosus</td>\n",
       "            <td>45.70125048</td>\n",
       "            <td>-85.53653666</td>\n",
       "        </tr>\n",
       "    </tbody>\n",
       "</table>"
      ],
      "text/plain": [
       "[('spotted coralroot', 'Corallorhiza maculata', 39.968807, -105.54962),\n",
       " ('Tuberous Grasspink', 'Calopogon tuberosus', 45.70125048, -85.53653666)]"
      ]
     },
     "execution_count": 30,
     "metadata": {},
     "output_type": "execute_result"
    }
   ],
   "source": [
    "common_name = df.iloc[1].common_name\n",
    "scientific_name = df.iloc[1].scientific_name\n",
    "latitude = df.iloc[1].latitude\n",
    "longitude = df.iloc[1].longitude\n",
    "%sql INSERT INTO orchid VALUES (:common_name, :scientific_name, :latitude, :longitude);\n",
    "%sql SELECT * FROM orchid LIMIT 5"
   ]
  },
  {
   "cell_type": "markdown",
   "id": "8c0d9dc1-b901-417b-8019-92e3fab515f7",
   "metadata": {},
   "source": [
    "Lets use a for loop to include the rest of the rows into the table"
   ]
  },
  {
   "cell_type": "code",
   "execution_count": 31,
   "id": "0616f04e-f85a-4a60-b8fe-38c77045d434",
   "metadata": {},
   "outputs": [
    {
     "name": "stdout",
     "output_type": "stream",
     "text": [
      " * sqlite:///orchid.db\n",
      "2 rows affected.\n",
      " * sqlite:///orchid.db\n",
      "Done.\n"
     ]
    }
   ],
   "source": [
    "#we delete all data from orchid so we can add data from csv \n",
    "#to the table\n",
    "%sql DELETE FROM orchid;\n",
    "%sql SELECT * FROM orchid;\n",
    "\n",
    "#add 100 rows from from the csv to the tables\n",
    "#io.capture_output supresses each print statement from sql code\n",
    "\n",
    "for i in range(100):\n",
    "    \n",
    "    common_name = df.iloc[i].common_name\n",
    "    scientific_name = df.iloc[i].scientific_name\n",
    "    latitude = df.iloc[i].latitude\n",
    "    longitude = df.iloc[i].longitude\n",
    "    \n",
    "    with io.capture_output(): #to stop outputs from printing\n",
    "        %sql INSERT INTO orchid VALUES (:common_name, :scientific_name, :latitude, :longitude);\n",
    "        \n"
   ]
  },
  {
   "cell_type": "code",
   "execution_count": 32,
   "id": "4d673764-7808-4660-ba5b-1497f0806f92",
   "metadata": {},
   "outputs": [
    {
     "name": "stdout",
     "output_type": "stream",
     "text": [
      " * sqlite:///orchid.db\n",
      "Done.\n"
     ]
    },
    {
     "data": {
      "text/html": [
       "<table>\n",
       "    <thead>\n",
       "        <tr>\n",
       "            <th>common name</th>\n",
       "            <th>scientific_name</th>\n",
       "            <th>latitude</th>\n",
       "            <th>longitutde</th>\n",
       "        </tr>\n",
       "    </thead>\n",
       "    <tbody>\n",
       "        <tr>\n",
       "            <td>spotted coralroot</td>\n",
       "            <td>Corallorhiza maculata</td>\n",
       "            <td>39.96880703</td>\n",
       "            <td>-105.5496204</td>\n",
       "        </tr>\n",
       "        <tr>\n",
       "            <td>Tuberous Grasspink</td>\n",
       "            <td>Calopogon tuberosus</td>\n",
       "            <td>45.70125048</td>\n",
       "            <td>-85.53653666</td>\n",
       "        </tr>\n",
       "        <tr>\n",
       "            <td>crane-fly orchid</td>\n",
       "            <td>Tipularia discolor</td>\n",
       "            <td>39.20595599</td>\n",
       "            <td>-77.29086307</td>\n",
       "        </tr>\n",
       "        <tr>\n",
       "            <td>crane-fly orchid</td>\n",
       "            <td>Tipularia discolor</td>\n",
       "            <td>37.59629696</td>\n",
       "            <td>-77.47732401</td>\n",
       "        </tr>\n",
       "        <tr>\n",
       "            <td>crane-fly orchid</td>\n",
       "            <td>Tipularia discolor</td>\n",
       "            <td>35.12957887</td>\n",
       "            <td>-85.35996842</td>\n",
       "        </tr>\n",
       "    </tbody>\n",
       "</table>"
      ],
      "text/plain": [
       "[('spotted coralroot', 'Corallorhiza maculata', 39.96880703, -105.5496204),\n",
       " ('Tuberous Grasspink', 'Calopogon tuberosus', 45.70125048, -85.53653666),\n",
       " ('crane-fly orchid', 'Tipularia discolor', 39.20595599, -77.29086307),\n",
       " ('crane-fly orchid', 'Tipularia discolor', 37.59629696, -77.47732401),\n",
       " ('crane-fly orchid', 'Tipularia discolor', 35.12957887, -85.35996842)]"
      ]
     },
     "execution_count": 32,
     "metadata": {},
     "output_type": "execute_result"
    }
   ],
   "source": [
    "%%sql\n",
    "SELECT * FROM orchid\n",
    "LIMIT 5;"
   ]
  },
  {
   "cell_type": "markdown",
   "id": "dfeb6fa4-c31f-42b2-abc5-49c37b0a32ce",
   "metadata": {},
   "source": [
    "## Modify table"
   ]
  },
  {
   "cell_type": "markdown",
   "id": "9f97f526-fc62-4fea-a6d2-eef85c2ef701",
   "metadata": {},
   "source": [
    "### Insert and Delete a new Column\n",
    "\n",
    "We use the <b>ALTER</> command to add a new column"
   ]
  },
  {
   "cell_type": "code",
   "execution_count": 33,
   "id": "9716100e-8334-4dd2-adab-6062dfb7b4a4",
   "metadata": {},
   "outputs": [
    {
     "name": "stdout",
     "output_type": "stream",
     "text": [
      " * sqlite:///orchid.db\n",
      "Done.\n",
      "Done.\n",
      "Done.\n"
     ]
    },
    {
     "data": {
      "text/html": [
       "<table>\n",
       "    <thead>\n",
       "        <tr>\n",
       "            <th>common name</th>\n",
       "            <th>scientific_name</th>\n",
       "            <th>latitude</th>\n",
       "            <th>longitutde</th>\n",
       "            <th>private_latitude</th>\n",
       "            <th>private_longitude</th>\n",
       "        </tr>\n",
       "    </thead>\n",
       "    <tbody>\n",
       "        <tr>\n",
       "            <td>spotted coralroot</td>\n",
       "            <td>Corallorhiza maculata</td>\n",
       "            <td>39.96880703</td>\n",
       "            <td>-105.5496204</td>\n",
       "            <td>None</td>\n",
       "            <td>None</td>\n",
       "        </tr>\n",
       "        <tr>\n",
       "            <td>Tuberous Grasspink</td>\n",
       "            <td>Calopogon tuberosus</td>\n",
       "            <td>45.70125048</td>\n",
       "            <td>-85.53653666</td>\n",
       "            <td>None</td>\n",
       "            <td>None</td>\n",
       "        </tr>\n",
       "        <tr>\n",
       "            <td>crane-fly orchid</td>\n",
       "            <td>Tipularia discolor</td>\n",
       "            <td>39.20595599</td>\n",
       "            <td>-77.29086307</td>\n",
       "            <td>None</td>\n",
       "            <td>None</td>\n",
       "        </tr>\n",
       "        <tr>\n",
       "            <td>crane-fly orchid</td>\n",
       "            <td>Tipularia discolor</td>\n",
       "            <td>37.59629696</td>\n",
       "            <td>-77.47732401</td>\n",
       "            <td>None</td>\n",
       "            <td>None</td>\n",
       "        </tr>\n",
       "        <tr>\n",
       "            <td>crane-fly orchid</td>\n",
       "            <td>Tipularia discolor</td>\n",
       "            <td>35.12957887</td>\n",
       "            <td>-85.35996842</td>\n",
       "            <td>None</td>\n",
       "            <td>None</td>\n",
       "        </tr>\n",
       "    </tbody>\n",
       "</table>"
      ],
      "text/plain": [
       "[('spotted coralroot', 'Corallorhiza maculata', 39.96880703, -105.5496204, None, None),\n",
       " ('Tuberous Grasspink', 'Calopogon tuberosus', 45.70125048, -85.53653666, None, None),\n",
       " ('crane-fly orchid', 'Tipularia discolor', 39.20595599, -77.29086307, None, None),\n",
       " ('crane-fly orchid', 'Tipularia discolor', 37.59629696, -77.47732401, None, None),\n",
       " ('crane-fly orchid', 'Tipularia discolor', 35.12957887, -85.35996842, None, None)]"
      ]
     },
     "execution_count": 33,
     "metadata": {},
     "output_type": "execute_result"
    }
   ],
   "source": [
    "%%sql\n",
    "ALTER TABLE orchid\n",
    "ADD COLUMN 'private_latitude' FLOAT;\n",
    "\n",
    "ALTER TABLE orchid\n",
    "ADD COLUMN 'private_longitude' FLOAT;\n",
    "\n",
    "SELECT * FROM orchid LIMIT 5"
   ]
  },
  {
   "cell_type": "markdown",
   "id": "47aeea69-bf79-4981-a50e-4f3869910f38",
   "metadata": {},
   "source": [
    "Lets drop the newly added columns"
   ]
  },
  {
   "cell_type": "code",
   "execution_count": 34,
   "id": "e417a35c-55ec-4c6e-8a1c-e6fd7feaf2d3",
   "metadata": {},
   "outputs": [
    {
     "name": "stdout",
     "output_type": "stream",
     "text": [
      " * sqlite:///orchid.db\n",
      "Done.\n",
      "Done.\n",
      "Done.\n"
     ]
    },
    {
     "data": {
      "text/html": [
       "<table>\n",
       "    <thead>\n",
       "        <tr>\n",
       "            <th>common name</th>\n",
       "            <th>scientific_name</th>\n",
       "            <th>latitude</th>\n",
       "            <th>longitutde</th>\n",
       "        </tr>\n",
       "    </thead>\n",
       "    <tbody>\n",
       "        <tr>\n",
       "            <td>spotted coralroot</td>\n",
       "            <td>Corallorhiza maculata</td>\n",
       "            <td>39.96880703</td>\n",
       "            <td>-105.5496204</td>\n",
       "        </tr>\n",
       "        <tr>\n",
       "            <td>Tuberous Grasspink</td>\n",
       "            <td>Calopogon tuberosus</td>\n",
       "            <td>45.70125048</td>\n",
       "            <td>-85.53653666</td>\n",
       "        </tr>\n",
       "        <tr>\n",
       "            <td>crane-fly orchid</td>\n",
       "            <td>Tipularia discolor</td>\n",
       "            <td>39.20595599</td>\n",
       "            <td>-77.29086307</td>\n",
       "        </tr>\n",
       "        <tr>\n",
       "            <td>crane-fly orchid</td>\n",
       "            <td>Tipularia discolor</td>\n",
       "            <td>37.59629696</td>\n",
       "            <td>-77.47732401</td>\n",
       "        </tr>\n",
       "        <tr>\n",
       "            <td>crane-fly orchid</td>\n",
       "            <td>Tipularia discolor</td>\n",
       "            <td>35.12957887</td>\n",
       "            <td>-85.35996842</td>\n",
       "        </tr>\n",
       "    </tbody>\n",
       "</table>"
      ],
      "text/plain": [
       "[('spotted coralroot', 'Corallorhiza maculata', 39.96880703, -105.5496204),\n",
       " ('Tuberous Grasspink', 'Calopogon tuberosus', 45.70125048, -85.53653666),\n",
       " ('crane-fly orchid', 'Tipularia discolor', 39.20595599, -77.29086307),\n",
       " ('crane-fly orchid', 'Tipularia discolor', 37.59629696, -77.47732401),\n",
       " ('crane-fly orchid', 'Tipularia discolor', 35.12957887, -85.35996842)]"
      ]
     },
     "execution_count": 34,
     "metadata": {},
     "output_type": "execute_result"
    }
   ],
   "source": [
    "%%sql\n",
    "ALTER TABLE orchid\n",
    "DROP COLUMN 'private_latitude';\n",
    "ALTER TABLE orchid\n",
    "DROP COLUMN 'private_longitude';\n",
    "\n",
    "SELECT * FROM orchid LIMIT 5"
   ]
  },
  {
   "cell_type": "markdown",
   "id": "0507b967-2c29-47e6-9f19-648984fdea8d",
   "metadata": {},
   "source": [
    "### Truncate\n",
    "To truncate a table the SQL command **TRUNCATE** doesn't work.  Instead we use the comman **DELETE**"
   ]
  },
  {
   "cell_type": "code",
   "execution_count": 35,
   "id": "654793af-82cc-4783-9367-6e6feaf38d94",
   "metadata": {},
   "outputs": [
    {
     "name": "stdout",
     "output_type": "stream",
     "text": [
      " * sqlite:///orchid.db\n",
      "100 rows affected.\n",
      "Done.\n"
     ]
    },
    {
     "data": {
      "text/html": [
       "<table>\n",
       "    <thead>\n",
       "        <tr>\n",
       "            <th>common name</th>\n",
       "            <th>scientific_name</th>\n",
       "            <th>latitude</th>\n",
       "            <th>longitutde</th>\n",
       "        </tr>\n",
       "    </thead>\n",
       "    <tbody>\n",
       "    </tbody>\n",
       "</table>"
      ],
      "text/plain": [
       "[]"
      ]
     },
     "execution_count": 35,
     "metadata": {},
     "output_type": "execute_result"
    }
   ],
   "source": [
    "%%sql\n",
    "DELETE FROM orchid;\n",
    "SELECT * FROM orchid LIMIT 5"
   ]
  },
  {
   "cell_type": "markdown",
   "id": "f2dcfcd7-e836-4783-8834-a660957c3b2f",
   "metadata": {},
   "source": [
    "### Change the name of a column\n",
    "To change the name of a column we use the command **RENAME**"
   ]
  },
  {
   "cell_type": "code",
   "execution_count": 36,
   "id": "a30d28a5-3a78-49f3-9055-99b492679b0b",
   "metadata": {},
   "outputs": [
    {
     "name": "stdout",
     "output_type": "stream",
     "text": [
      " * sqlite:///orchid.db\n",
      "Done.\n",
      "Done.\n"
     ]
    },
    {
     "data": {
      "text/html": [
       "<table>\n",
       "    <thead>\n",
       "        <tr>\n",
       "            <th>common name</th>\n",
       "            <th>scientificname</th>\n",
       "            <th>latitude</th>\n",
       "            <th>longitutde</th>\n",
       "        </tr>\n",
       "    </thead>\n",
       "    <tbody>\n",
       "    </tbody>\n",
       "</table>"
      ],
      "text/plain": [
       "[]"
      ]
     },
     "execution_count": 36,
     "metadata": {},
     "output_type": "execute_result"
    }
   ],
   "source": [
    "%%sql\n",
    "ALTER TABLE orchid RENAME 'scientific_name' TO 'scientificname';\n",
    "SELECT * FROM orchid"
   ]
  },
  {
   "cell_type": "markdown",
   "id": "1fdb5004-49b2-40f3-a096-238a6c5073ad",
   "metadata": {
    "tags": []
   },
   "source": [
    "### Delete table\n",
    "Now to delete the table, and to check if the table is actually deleted."
   ]
  },
  {
   "cell_type": "code",
   "execution_count": 38,
   "id": "eccab9a8-56a4-490c-bca0-8f87df705885",
   "metadata": {
    "tags": []
   },
   "outputs": [
    {
     "name": "stdout",
     "output_type": "stream",
     "text": [
      " * sqlite:///orchid.db\n",
      "(sqlite3.OperationalError) no such table: orchid\n",
      "[SQL: DROP TABLE orchid]\n",
      "(Background on this error at: https://sqlalche.me/e/20/e3q8)\n",
      " * sqlite:///orchid.db\n",
      "Done.\n"
     ]
    },
    {
     "data": {
      "text/html": [
       "<table>\n",
       "    <thead>\n",
       "        <tr>\n",
       "            <th>name</th>\n",
       "        </tr>\n",
       "    </thead>\n",
       "    <tbody>\n",
       "    </tbody>\n",
       "</table>"
      ],
      "text/plain": [
       "[]"
      ]
     },
     "execution_count": 38,
     "metadata": {},
     "output_type": "execute_result"
    }
   ],
   "source": [
    "%sql DROP TABLE orchid\n",
    "%sql SELECT name FROM sqlite_master WHERE type='table';"
   ]
  },
  {
   "cell_type": "code",
   "execution_count": null,
   "id": "1e0ea34b-affe-4c20-a92a-33709636b89e",
   "metadata": {},
   "outputs": [],
   "source": []
  },
  {
   "cell_type": "markdown",
   "id": "45b99fb9-8be9-47c4-b9c1-517820647b0c",
   "metadata": {},
   "source": [
    "# Write the CSV to sql\n",
    "Uncomment the following code to write new entries to the table **orchid_full**"
   ]
  },
  {
   "cell_type": "code",
   "execution_count": 43,
   "id": "f4c46d54-d803-408f-a2f7-ced84687a3e3",
   "metadata": {
    "tags": []
   },
   "outputs": [
    {
     "name": "stdout",
     "output_type": "stream",
     "text": [
      "The sql extension is already loaded. To reload it, use:\n",
      "  %reload_ext sql\n"
     ]
    }
   ],
   "source": [
    "%load_ext sql\n",
    "%sql sqlite:///orchid.db"
   ]
  },
  {
   "cell_type": "code",
   "execution_count": 45,
   "id": "28c1855d-4d2e-4c76-97e9-8ab869380448",
   "metadata": {
    "tags": []
   },
   "outputs": [
    {
     "name": "stdout",
     "output_type": "stream",
     "text": [
      " * sqlite:///orchid.db\n",
      "Done.\n",
      "Done.\n"
     ]
    },
    {
     "data": {
      "text/html": [
       "<table>\n",
       "    <thead>\n",
       "        <tr>\n",
       "            <th>name</th>\n",
       "        </tr>\n",
       "    </thead>\n",
       "    <tbody>\n",
       "        <tr>\n",
       "            <td>orchid_all</td>\n",
       "        </tr>\n",
       "    </tbody>\n",
       "</table>"
      ],
      "text/plain": [
       "[('orchid_all',)]"
      ]
     },
     "execution_count": 45,
     "metadata": {},
     "output_type": "execute_result"
    }
   ],
   "source": [
    "%%sql\n",
    "CREATE TABLE IF NOT EXISTS orchid_all ('common name' char, \n",
    "                     'scientific_name' char, \n",
    "                     'latitude' float, \n",
    "                     'longitutde' float,\n",
    "                     'date_observed_on'  date,\n",
    "                     'place_guess' char,\n",
    "                     'place_state_name' char,\n",
    "                     'place_country_name' char );\n",
    "SELECT name FROM sqlite_master WHERE type='table';"
   ]
  },
  {
   "cell_type": "code",
   "execution_count": 3,
   "id": "554027cb-e3c3-4cee-a281-c188664f239e",
   "metadata": {
    "tags": []
   },
   "outputs": [
    {
     "name": "stdout",
     "output_type": "stream",
     "text": [
      " * sqlite:///orchid.db\n",
      "23734 rows affected.\n",
      "Done.\n"
     ]
    },
    {
     "data": {
      "text/html": [
       "<table>\n",
       "    <thead>\n",
       "        <tr>\n",
       "            <th>common name</th>\n",
       "            <th>scientific_name</th>\n",
       "            <th>latitude</th>\n",
       "            <th>longitutde</th>\n",
       "            <th>date_observed_on</th>\n",
       "            <th>place_guess</th>\n",
       "            <th>place_state_name</th>\n",
       "            <th>place_country_name</th>\n",
       "        </tr>\n",
       "    </thead>\n",
       "    <tbody>\n",
       "    </tbody>\n",
       "</table>"
      ],
      "text/plain": [
       "[]"
      ]
     },
     "execution_count": 3,
     "metadata": {},
     "output_type": "execute_result"
    }
   ],
   "source": [
    "%%sql\n",
    "DELETE FROM orchid_all;\n",
    "SELECT* FROM orchid_all LIMIT 5"
   ]
  },
  {
   "cell_type": "code",
   "execution_count": 4,
   "id": "6446b7c6-da9b-4fe5-90f0-9c7c2b94e20a",
   "metadata": {
    "tags": []
   },
   "outputs": [
    {
     "name": "stdout",
     "output_type": "stream",
     "text": [
      "The sql extension is already loaded. To reload it, use:\n",
      "  %reload_ext sql\n",
      "number of inputs  1000  time elapsed  0  minutes  18.94  seconds\n",
      "number of inputs  2000  time elapsed  0  minutes  36.07  seconds\n",
      "number of inputs  3000  time elapsed  0  minutes  59.59  seconds\n",
      "number of inputs  4000  time elapsed  1  minutes  11.34  seconds\n",
      "number of inputs  5000  time elapsed  1  minutes  24.84  seconds\n",
      "number of inputs  6000  time elapsed  1  minutes  37.39  seconds\n",
      "number of inputs  7000  time elapsed  1  minutes  55.06  seconds\n",
      "number of inputs  8000  time elapsed  2  minutes  20.85  seconds\n",
      "number of inputs  9000  time elapsed  2  minutes  41.41  seconds\n",
      "number of inputs  10000  time elapsed  3  minutes  1.46  seconds\n",
      "number of inputs  11000  time elapsed  3  minutes  15.9  seconds\n",
      "number of inputs  12000  time elapsed  3  minutes  33.17  seconds\n",
      "number of inputs  13000  time elapsed  3  minutes  50.4  seconds\n",
      "number of inputs  14000  time elapsed  4  minutes  12.85  seconds\n",
      "number of inputs  15000  time elapsed  4  minutes  29.48  seconds\n",
      "number of inputs  16000  time elapsed  4  minutes  45.93  seconds\n",
      "number of inputs  17000  time elapsed  5  minutes  1.82  seconds\n",
      "number of inputs  18000  time elapsed  5  minutes  19.77  seconds\n",
      "number of inputs  19000  time elapsed  5  minutes  39.91  seconds\n",
      "number of inputs  20000  time elapsed  6  minutes  1.0  seconds\n",
      "number of inputs  21000  time elapsed  6  minutes  24.94  seconds\n",
      "number of inputs  22000  time elapsed  6  minutes  38.42  seconds\n",
      "number of inputs  23000  time elapsed  6  minutes  51.45  seconds\n",
      "number of inputs  24000  time elapsed  7  minutes  5.24  seconds\n",
      "number of inputs  25000  time elapsed  7  minutes  27.65  seconds\n",
      "number of inputs  26000  time elapsed  7  minutes  51.41  seconds\n",
      "number of inputs  27000  time elapsed  8  minutes  10.41  seconds\n",
      "number of inputs  28000  time elapsed  8  minutes  34.4  seconds\n",
      "number of inputs  29000  time elapsed  8  minutes  50.62  seconds\n",
      "number of inputs  30000  time elapsed  9  minutes  14.85  seconds\n",
      "number of inputs  31000  time elapsed  9  minutes  39.25  seconds\n",
      "number of inputs  32000  time elapsed  10  minutes  5.97  seconds\n",
      "number of inputs  33000  time elapsed  10  minutes  23.23  seconds\n",
      "number of inputs  34000  time elapsed  10  minutes  45.47  seconds\n",
      "number of inputs  35000  time elapsed  11  minutes  6.19  seconds\n",
      "number of inputs  36000  time elapsed  11  minutes  26.61  seconds\n",
      "number of inputs  37000  time elapsed  11  minutes  38.59  seconds\n",
      "number of inputs  38000  time elapsed  11  minutes  52.59  seconds\n",
      "number of inputs  39000  time elapsed  12  minutes  9.36  seconds\n",
      "number of inputs  40000  time elapsed  12  minutes  21.72  seconds\n",
      "number of inputs  41000  time elapsed  12  minutes  42.79  seconds\n",
      "number of inputs  42000  time elapsed  13  minutes  9.61  seconds\n",
      "number of inputs  43000  time elapsed  13  minutes  30.21  seconds\n",
      "number of inputs  44000  time elapsed  13  minutes  46.54  seconds\n",
      "number of inputs  45000  time elapsed  14  minutes  1.57  seconds\n",
      "number of inputs  46000  time elapsed  14  minutes  13.03  seconds\n",
      "number of inputs  47000  time elapsed  14  minutes  29.49  seconds\n",
      "number of inputs  48000  time elapsed  14  minutes  49.71  seconds\n",
      "number of inputs  49000  time elapsed  15  minutes  2.89  seconds\n",
      "number of inputs  50000  time elapsed  15  minutes  16.25  seconds\n",
      "number of inputs  51000  time elapsed  15  minutes  34.97  seconds\n",
      "number of inputs  52000  time elapsed  15  minutes  51.65  seconds\n",
      "number of inputs  53000  time elapsed  16  minutes  11.93  seconds\n",
      "number of inputs  54000  time elapsed  16  minutes  24.86  seconds\n",
      "number of inputs  55000  time elapsed  16  minutes  44.35  seconds\n",
      "number of inputs  56000  time elapsed  17  minutes  5.75  seconds\n",
      "number of inputs  57000  time elapsed  17  minutes  21.69  seconds\n",
      "number of inputs  58000  time elapsed  17  minutes  39.49  seconds\n",
      "number of inputs  59000  time elapsed  17  minutes  59.92  seconds\n",
      "number of inputs  60000  time elapsed  18  minutes  22.3  seconds\n",
      "number of inputs  61000  time elapsed  18  minutes  45.6  seconds\n",
      "number of inputs  62000  time elapsed  19  minutes  10.49  seconds\n",
      "number of inputs  63000  time elapsed  19  minutes  35.21  seconds\n",
      "number of inputs  64000  time elapsed  19  minutes  59.6  seconds\n",
      "number of inputs  65000  time elapsed  20  minutes  20.74  seconds\n",
      "number of inputs  66000  time elapsed  20  minutes  47.43  seconds\n",
      "number of inputs  67000  time elapsed  21  minutes  10.81  seconds\n",
      "number of inputs  68000  time elapsed  21  minutes  26.35  seconds\n",
      "number of inputs  69000  time elapsed  21  minutes  48.05  seconds\n",
      "number of inputs  70000  time elapsed  22  minutes  5.02  seconds\n",
      "number of inputs  71000  time elapsed  22  minutes  27.32  seconds\n",
      "number of inputs  72000  time elapsed  22  minutes  44.61  seconds\n",
      "number of inputs  73000  time elapsed  23  minutes  1.02  seconds\n",
      "number of inputs  74000  time elapsed  23  minutes  16.6  seconds\n",
      "number of inputs  75000  time elapsed  23  minutes  35.61  seconds\n",
      "number of inputs  76000  time elapsed  23  minutes  57.6  seconds\n",
      "number of inputs  77000  time elapsed  24  minutes  15.66  seconds\n",
      "number of inputs  78000  time elapsed  24  minutes  36.79  seconds\n",
      "number of inputs  79000  time elapsed  24  minutes  58.7  seconds\n",
      "number of inputs  80000  time elapsed  25  minutes  14.98  seconds\n",
      "number of inputs  81000  time elapsed  25  minutes  34.24  seconds\n",
      "number of inputs  82000  time elapsed  25  minutes  54.97  seconds\n",
      "number of inputs  83000  time elapsed  26  minutes  17.23  seconds\n",
      "number of inputs  84000  time elapsed  26  minutes  36.94  seconds\n",
      "number of inputs  85000  time elapsed  27  minutes  0.18  seconds\n",
      "number of inputs  86000  time elapsed  27  minutes  18.61  seconds\n",
      "number of inputs  87000  time elapsed  27  minutes  37.0  seconds\n",
      "number of inputs  88000  time elapsed  27  minutes  53.56  seconds\n",
      "number of inputs  89000  time elapsed  28  minutes  10.88  seconds\n",
      "number of inputs  90000  time elapsed  28  minutes  27.79  seconds\n",
      "number of inputs  91000  time elapsed  28  minutes  46.4  seconds\n",
      "number of inputs  92000  time elapsed  29  minutes  3.02  seconds\n",
      "number of inputs  93000  time elapsed  29  minutes  18.02  seconds\n",
      "number of inputs  94000  time elapsed  29  minutes  30.43  seconds\n",
      "number of inputs  95000  time elapsed  29  minutes  45.27  seconds\n",
      "number of inputs  96000  time elapsed  29  minutes  57.75  seconds\n",
      "number of inputs  97000  time elapsed  30  minutes  13.38  seconds\n",
      "number of inputs  98000  time elapsed  30  minutes  29.51  seconds\n",
      "number of inputs  99000  time elapsed  30  minutes  44.39  seconds\n",
      "number of inputs  100000  time elapsed  30  minutes  59.19  seconds\n",
      "number of inputs  101000  time elapsed  31  minutes  16.94  seconds\n",
      "number of inputs  102000  time elapsed  31  minutes  37.09  seconds\n",
      "number of inputs  103000  time elapsed  31  minutes  57.3  seconds\n",
      "number of inputs  104000  time elapsed  32  minutes  15.72  seconds\n",
      "number of inputs  105000  time elapsed  32  minutes  36.3  seconds\n",
      "number of inputs  106000  time elapsed  32  minutes  51.87  seconds\n",
      "number of inputs  107000  time elapsed  33  minutes  8.35  seconds\n",
      "number of inputs  108000  time elapsed  33  minutes  26.53  seconds\n",
      "number of inputs  109000  time elapsed  33  minutes  42.54  seconds\n",
      "number of inputs  110000  time elapsed  33  minutes  57.7  seconds\n",
      "number of inputs  111000  time elapsed  34  minutes  14.48  seconds\n",
      "number of inputs  112000  time elapsed  34  minutes  29.88  seconds\n",
      "number of inputs  113000  time elapsed  34  minutes  42.81  seconds\n",
      "number of inputs  114000  time elapsed  34  minutes  55.71  seconds\n",
      "number of inputs  115000  time elapsed  35  minutes  9.05  seconds\n",
      "number of inputs  116000  time elapsed  35  minutes  22.96  seconds\n",
      "number of inputs  117000  time elapsed  35  minutes  37.81  seconds\n",
      "number of inputs  118000  time elapsed  35  minutes  53.08  seconds\n",
      "number of inputs  119000  time elapsed  36  minutes  6.27  seconds\n",
      "number of inputs  120000  time elapsed  36  minutes  20.91  seconds\n",
      "number of inputs  121000  time elapsed  36  minutes  38.06  seconds\n",
      "number of inputs  122000  time elapsed  36  minutes  57.52  seconds\n",
      "number of inputs  123000  time elapsed  37  minutes  15.31  seconds\n",
      "number of inputs  124000  time elapsed  37  minutes  33.29  seconds\n",
      "number of inputs  125000  time elapsed  37  minutes  52.34  seconds\n",
      "number of inputs  126000  time elapsed  38  minutes  12.88  seconds\n",
      "number of inputs  127000  time elapsed  38  minutes  30.25  seconds\n",
      "number of inputs  128000  time elapsed  38  minutes  50.6  seconds\n",
      "number of inputs  129000  time elapsed  39  minutes  11.15  seconds\n",
      "number of inputs  130000  time elapsed  39  minutes  29.14  seconds\n",
      "number of inputs  131000  time elapsed  39  minutes  44.27  seconds\n",
      "number of inputs  132000  time elapsed  39  minutes  59.35  seconds\n",
      "\n",
      "it took:  40  minutes  4.9  seconds\n"
     ]
    }
   ],
   "source": [
    "df= pd.read_csv('orchid_observation.csv', index_col='id')\n",
    "\n",
    "%load_ext sql\n",
    "%sql sqlite:///orchid.db\n",
    "\n",
    "start_time_master = time.time()\n",
    "start_time = time.time()\n",
    "\n",
    "for i in range(len(df)):\n",
    "    if i and i % 1000 == 0:\n",
    "        et = time.time()-start_time_master\n",
    "        m = math.floor(et/60)\n",
    "        s = round(et-m*60, 2)\n",
    "        \n",
    "        print(\"number of inputs \", i, \" time elapsed \", \n",
    "              m, \" minutes \", s, \" seconds\")\n",
    "        start_time = time.time()\n",
    "        \n",
    "    common_name = df.iloc[i].common_name\n",
    "    scientific_name = df.iloc[i].scientific_name\n",
    "    latitude = df.iloc[i].latitude\n",
    "    longitude = df.iloc[i].longitude\n",
    "    date_observed_on = df.iloc[i].date_observed_on\n",
    "    place_guess = df.iloc[i].place_guess\n",
    "    place_state_name = df.iloc[i].place_state_name\n",
    "    place_country_name = df.iloc[i].place_country_name\n",
    "\n",
    "    with io.capture_output(): #to stop outputs from printing\n",
    "        %sql INSERT INTO orchid_all VALUES (:common_name, :scientific_name, :latitude, :longitude, :date_observed_on, :place_guess, :place_state_name, :place_country_name );\n",
    "    #%sql INSERT INTO orchid_all VALUES (:common_name, :scientific_name, :latitude, :longitude, :date_observed_on, :place_guess, :place_state_name, :place_country_name);\n",
    "\n",
    "elapsed_time = time.time()-start_time_master\n",
    "minutes = math.floor(elapsed_time/60)\n",
    "seconds = round(elapsed_time-minutes*60, 2)\n",
    "print(\"\\nit took: \", minutes, \" minutes \", seconds, \" seconds\")\n"
   ]
  },
  {
   "cell_type": "code",
   "execution_count": 5,
   "id": "4af7c5ce-3938-4abb-aadb-b2531e410a4c",
   "metadata": {
    "tags": []
   },
   "outputs": [
    {
     "name": "stdout",
     "output_type": "stream",
     "text": [
      " * sqlite:///orchid.db\n",
      "Done.\n"
     ]
    },
    {
     "data": {
      "text/html": [
       "<table>\n",
       "    <thead>\n",
       "        <tr>\n",
       "            <th>common name</th>\n",
       "            <th>scientific_name</th>\n",
       "            <th>latitude</th>\n",
       "            <th>longitutde</th>\n",
       "            <th>date_observed_on</th>\n",
       "            <th>place_guess</th>\n",
       "            <th>place_state_name</th>\n",
       "            <th>place_country_name</th>\n",
       "        </tr>\n",
       "    </thead>\n",
       "    <tbody>\n",
       "        <tr>\n",
       "            <td>spotted coralroot</td>\n",
       "            <td>Corallorhiza maculata</td>\n",
       "            <td>39.96880703</td>\n",
       "            <td>-105.5496204</td>\n",
       "            <td>2017-06-28</td>\n",
       "            <td>136 Bergren Road Nederland, CO 80466</td>\n",
       "            <td>Colorado</td>\n",
       "            <td>United States</td>\n",
       "        </tr>\n",
       "        <tr>\n",
       "            <td>Tuberous Grasspink</td>\n",
       "            <td>Calopogon tuberosus</td>\n",
       "            <td>45.70125048</td>\n",
       "            <td>-85.53653666</td>\n",
       "            <td>2017-01-01</td>\n",
       "            <td>Beaver Island, Peaine, MI, US</td>\n",
       "            <td>Michigan</td>\n",
       "            <td>United States</td>\n",
       "        </tr>\n",
       "        <tr>\n",
       "            <td>crane-fly orchid</td>\n",
       "            <td>Tipularia discolor</td>\n",
       "            <td>39.20595599</td>\n",
       "            <td>-77.29086307</td>\n",
       "            <td>2017-01-01</td>\n",
       "            <td>Black Hill Regional Park, Boyds, MD</td>\n",
       "            <td>Maryland</td>\n",
       "            <td>United States</td>\n",
       "        </tr>\n",
       "        <tr>\n",
       "            <td>crane-fly orchid</td>\n",
       "            <td>Tipularia discolor</td>\n",
       "            <td>37.59629696</td>\n",
       "            <td>-77.47732401</td>\n",
       "            <td>2017-01-01</td>\n",
       "            <td>Northside, Richmond, VA, USA</td>\n",
       "            <td>Virginia</td>\n",
       "            <td>United States</td>\n",
       "        </tr>\n",
       "        <tr>\n",
       "            <td>crane-fly orchid</td>\n",
       "            <td>Tipularia discolor</td>\n",
       "            <td>35.12957887</td>\n",
       "            <td>-85.35996842</td>\n",
       "            <td>2017-01-01</td>\n",
       "            <td>37377, Signal Mountain, TN, US</td>\n",
       "            <td>Tennessee</td>\n",
       "            <td>United States</td>\n",
       "        </tr>\n",
       "    </tbody>\n",
       "</table>"
      ],
      "text/plain": [
       "[('spotted coralroot', 'Corallorhiza maculata', 39.96880703, -105.5496204, '2017-06-28', '136 Bergren Road Nederland, CO 80466', 'Colorado', 'United States'),\n",
       " ('Tuberous Grasspink', 'Calopogon tuberosus', 45.70125048, -85.53653666, '2017-01-01', 'Beaver Island, Peaine, MI, US', 'Michigan', 'United States'),\n",
       " ('crane-fly orchid', 'Tipularia discolor', 39.20595599, -77.29086307, '2017-01-01', 'Black Hill Regional Park, Boyds, MD', 'Maryland', 'United States'),\n",
       " ('crane-fly orchid', 'Tipularia discolor', 37.59629696, -77.47732401, '2017-01-01', 'Northside, Richmond, VA, USA', 'Virginia', 'United States'),\n",
       " ('crane-fly orchid', 'Tipularia discolor', 35.12957887, -85.35996842, '2017-01-01', '37377, Signal Mountain, TN, US', 'Tennessee', 'United States')]"
      ]
     },
     "execution_count": 5,
     "metadata": {},
     "output_type": "execute_result"
    }
   ],
   "source": [
    "%%sql\n",
    "SELECT * FROM orchid_all\n",
    "LIMIT 5;"
   ]
  },
  {
   "cell_type": "code",
   "execution_count": null,
   "id": "9367bbe4-ef38-4acc-9802-f36de2c27958",
   "metadata": {},
   "outputs": [],
   "source": []
  }
 ],
 "metadata": {
  "kernelspec": {
   "display_name": "Python 3 (ipykernel)",
   "language": "python",
   "name": "python3"
  },
  "language_info": {
   "codemirror_mode": {
    "name": "ipython",
    "version": 3
   },
   "file_extension": ".py",
   "mimetype": "text/x-python",
   "name": "python",
   "nbconvert_exporter": "python",
   "pygments_lexer": "ipython3",
   "version": "3.11.5"
  }
 },
 "nbformat": 4,
 "nbformat_minor": 5
}
